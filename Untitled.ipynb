{
 "cells": [
  {
   "cell_type": "code",
   "execution_count": 4,
   "id": "8a98a5ea-467a-4dba-8a8c-56840317cf28",
   "metadata": {},
   "outputs": [
    {
     "name": "stdout",
     "output_type": "stream",
     "text": [
      "السلام عليكم\n"
     ]
    }
   ],
   "source": [
    "print(\"السلام عليكم\")"
   ]
  },
  {
   "cell_type": "code",
   "execution_count": 5,
   "id": "55e78067-35a6-41a0-a0b9-ab51cf95ee4a",
   "metadata": {},
   "outputs": [
    {
     "name": "stdout",
     "output_type": "stream",
     "text": [
      "وعليكم السلام\n"
     ]
    }
   ],
   "source": [
    "print(\"وعليكم السلام\")"
   ]
  },
  {
   "cell_type": "code",
   "execution_count": 6,
   "id": "0cc134b9-9a35-4fe1-9a88-730be61caf46",
   "metadata": {},
   "outputs": [],
   "source": [
    "q=\"هل يوجد لديكم شاورما دجاج عربي؟\""
   ]
  },
  {
   "cell_type": "code",
   "execution_count": 7,
   "id": "d29f666a-b96b-4800-a6a7-91e18822510b",
   "metadata": {},
   "outputs": [
    {
     "name": "stdout",
     "output_type": "stream",
     "text": [
      "هل يوجد لديكم شاورما دجاج عربي؟\n"
     ]
    }
   ],
   "source": [
    "print(q)"
   ]
  },
  {
   "cell_type": "code",
   "execution_count": 17,
   "id": "918dc4f7-62de-4af8-ab1c-922f4fb5eaa5",
   "metadata": {},
   "outputs": [
    {
     "name": "stdin",
     "output_type": "stream",
     "text": [
      " أجب ب'نعم' أو 'لا'=  نعم\n"
     ]
    }
   ],
   "source": [
    "a = input(\" أجب ب'نعم' أو 'لا'= \")"
   ]
  },
  {
   "cell_type": "code",
   "execution_count": 18,
   "id": "f9c90165-d0bd-4647-9eee-8f10bcc317d2",
   "metadata": {},
   "outputs": [
    {
     "name": "stdout",
     "output_type": "stream",
     "text": [
      "?كم سعر الشاورما الواحد \n"
     ]
    }
   ],
   "source": [
    "if a=='لا':\n",
    "    print(\"يعطيك العافيه\")\n",
    "elif a=='نعم':\n",
    "    print (\"?كم سعر الشاورما الواحد \")"
   ]
  },
  {
   "cell_type": "code",
   "execution_count": 23,
   "id": "916691c8-cdda-434a-9d29-127c0ff17d0d",
   "metadata": {},
   "outputs": [
    {
     "name": "stdout",
     "output_type": "stream",
     "text": [
      "8\n"
     ]
    }
   ],
   "source": [
    "x=8\n",
    "print(x)"
   ]
  },
  {
   "cell_type": "code",
   "execution_count": 21,
   "id": "371546a6-9978-43d0-b16e-0a052a6cbc62",
   "metadata": {},
   "outputs": [
    {
     "name": "stdout",
     "output_type": "stream",
     "text": [
      "أريد 3 شاورمات\n"
     ]
    }
   ],
   "source": [
    "print (\"أريد 3 شاورمات\")"
   ]
  },
  {
   "cell_type": "code",
   "execution_count": 22,
   "id": "e3a2665d-4759-4cae-974c-da4c14bb99bf",
   "metadata": {},
   "outputs": [
    {
     "name": "stdout",
     "output_type": "stream",
     "text": [
      "المجموع :24 ريال\n"
     ]
    }
   ],
   "source": [
    "t=x*3\n",
    "print(f\"المجموع :{t} ريال\")"
   ]
  },
  {
   "cell_type": "code",
   "execution_count": null,
   "id": "7e980534-a68f-468b-92e4-79bfe123e241",
   "metadata": {},
   "outputs": [],
   "source": []
  }
 ],
 "metadata": {
  "kernelspec": {
   "display_name": "Python 3 (ipykernel)",
   "language": "python",
   "name": "python3"
  },
  "language_info": {
   "codemirror_mode": {
    "name": "ipython",
    "version": 3
   },
   "file_extension": ".py",
   "mimetype": "text/x-python",
   "name": "python",
   "nbconvert_exporter": "python",
   "pygments_lexer": "ipython3",
   "version": "3.13.5"
  }
 },
 "nbformat": 4,
 "nbformat_minor": 5
}
